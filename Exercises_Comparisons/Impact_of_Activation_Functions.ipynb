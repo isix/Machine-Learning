{
  "nbformat": 4,
  "nbformat_minor": 0,
  "metadata": {
    "colab": {
      "name": "Impact of Activation Functions.ipynb",
      "version": "0.3.2",
      "provenance": [],
      "collapsed_sections": []
    },
    "kernelspec": {
      "name": "python3",
      "display_name": "Python 3"
    }
  },
  "cells": [
    {
      "metadata": {
        "id": "wFF56BcHzMs7",
        "colab_type": "text"
      },
      "cell_type": "markdown",
      "source": [
        "# Impact of Activation Functions\n"
      ]
    },
    {
      "metadata": {
        "id": "-xGShKQzzKQA",
        "colab_type": "code",
        "colab": {
          "base_uri": "https://localhost:8080/",
          "height": 510
        },
        "outputId": "f960336a-f4a6-4789-fa60-18e4f9c5a7c5"
      },
      "cell_type": "code",
      "source": [
        "import numpy as np\n",
        "import matplotlib.pyplot as plt\n",
        "from sklearn import datasets\n",
        "from sklearn.naive_bayes import GaussianNB\n",
        "from sklearn.linear_model import LogisticRegression\n",
        "from sklearn.ensemble import RandomForestClassifier\n",
        "from sklearn.svm import LinearSVC\n",
        "from sklearn.calibration import calibration_curve\n",
        "from scipy.stats import itemfreq\n",
        "from keras.models import Sequential\n",
        "from keras.layers import Dense, Dropout\n",
        "\n",
        "np.random.seed(666)\n",
        "\n",
        "# Total sample size ------------------------------------------------------------\n",
        "n = 100000\n",
        "n_features = 20 # Total number of variables (features)\n",
        "n_informative = 2 # The number of informative variables (features).\n",
        "n_redundant = 2 # The number of redundant variables (features).\n",
        "# Samples used for training the models\n",
        "train_samples = 70000 \n",
        "\n",
        "X, y = datasets.make_classification(n_samples=n, \n",
        "                                    n_features=n_features,\n",
        "                                    n_informative=n_informative, \n",
        "                                    n_redundant=n_redundant)\n",
        "X = ( X * 5 ) + 50\n",
        "\n",
        "X_train = X[:train_samples]\n",
        "X_test = X[train_samples:]\n",
        "y_train = y[:train_samples]\n",
        "y_test = y[train_samples:]\n",
        "\n",
        "print(\"Shape of X_train:\", X_train.shape )\n",
        "print(\"Shape of y_train:\", y_train.shape, \"\\n\" )\n",
        "print(\"Shape of X_test:\", X_test.shape )\n",
        "print(\"Shape of y_test:\", y_test.shape, \"\\n\" )\n",
        "\n",
        "# Sample data\n",
        "print(\"Sample y \", y_train[1:5])\n",
        "print(\"Sample x \\n\", X_train[1:5], \"\\n\" )\n",
        "# Frequencia\n",
        "print(\"Frequency \\n\", itemfreq( y )) \n",
        "\n"
      ],
      "execution_count": 3,
      "outputs": [
        {
          "output_type": "stream",
          "text": [
            "Using TensorFlow backend.\n"
          ],
          "name": "stderr"
        },
        {
          "output_type": "stream",
          "text": [
            "Shape of X_train: (70000, 20)\n",
            "Shape of y_train: (70000,) \n",
            "\n",
            "Shape of X_test: (30000, 20)\n",
            "Shape of y_test: (30000,) \n",
            "\n",
            "Sample y  [1 1 1 0]\n",
            "Sample x \n",
            " [[64.94595194 53.13656135 53.01191613 56.21747762 55.32043575 44.5712013\n",
            "  48.25344799 45.74158019 50.52065627 47.40033855 41.84799332 49.32500722\n",
            "  43.73067361 43.02025042 50.78457529 43.09460704 44.32853147 50.86347644\n",
            "  52.21223543 42.09577081]\n",
            " [44.50695934 57.99924053 53.93509367 63.61508376 42.217573   45.33012077\n",
            "  53.09110498 46.79193816 42.99073914 51.0364739  54.01282072 50.82707778\n",
            "  51.57016636 44.67104363 45.8775338  44.6275318  53.37676574 42.39480428\n",
            "  47.71598573 55.71275738]\n",
            " [53.10043068 56.81066531 43.10342728 55.46104955 47.07898005 54.57684427\n",
            "  51.65586498 58.33450312 50.04754331 50.96330756 49.23096942 57.67504612\n",
            "  50.76146027 53.85844883 50.07657868 44.99553942 54.44174816 48.79662772\n",
            "  46.97121116 48.17265511]\n",
            " [47.0155751  48.3385013  38.87871553 41.00694044 51.2573889  49.39894809\n",
            "  48.60502111 51.23965781 56.54276302 47.16540401 47.93971954 56.83782732\n",
            "  57.49483569 53.19793283 49.63370927 57.00303054 46.92124077 58.37174886\n",
            "  53.54881558 46.46029504]] \n",
            "\n",
            "Frequency \n",
            " [[    0 49973]\n",
            " [    1 50027]]\n"
          ],
          "name": "stdout"
        }
      ]
    },
    {
      "metadata": {
        "id": "2UMZlfbzzTU3",
        "colab_type": "code",
        "colab": {
          "base_uri": "https://localhost:8080/",
          "height": 731
        },
        "outputId": "a273fb89-b5a2-45f5-d9f0-36399fda62e8"
      },
      "cell_type": "code",
      "source": [
        "model = Sequential()\n",
        "model.add(Dense(64, input_dim=20, activation='relu'))\n",
        "model.add(Dropout(0.5))\n",
        "model.add(Dense(64, activation='relu'))\n",
        "model.add(Dropout(0.5))\n",
        "model.add(Dense(1, activation='sigmoid'))\n",
        "\n",
        "model.compile(loss='binary_crossentropy',\n",
        "              optimizer='rmsprop',\n",
        "              metrics=['accuracy'])\n",
        "model.fit(X_train, y_train,\n",
        "          epochs=20,\n",
        "          batch_size=128)\n",
        "\n",
        "score = model.evaluate(X_test, y_test, verbose=0, batch_size=128)\n",
        "print('Test score:', score[0])\n",
        "print('Test accuracy:', score[1])\n",
        "\n",
        "# Prediction \n",
        "y_pred = model.predict(X_test)\n"
      ],
      "execution_count": 4,
      "outputs": [
        {
          "output_type": "stream",
          "text": [
            "Epoch 1/20\n",
            "70000/70000 [==============================] - 1s 18us/step - loss: 1.1686 - acc: 0.7083\n",
            "Epoch 2/20\n",
            "70000/70000 [==============================] - 1s 16us/step - loss: 0.4389 - acc: 0.8026\n",
            "Epoch 3/20\n",
            "70000/70000 [==============================] - 1s 16us/step - loss: 0.4003 - acc: 0.8254\n",
            "Epoch 4/20\n",
            "70000/70000 [==============================] - 1s 16us/step - loss: 0.3805 - acc: 0.8391\n",
            "Epoch 5/20\n",
            "70000/70000 [==============================] - 1s 16us/step - loss: 0.3645 - acc: 0.8464\n",
            "Epoch 6/20\n",
            "70000/70000 [==============================] - 1s 16us/step - loss: 0.3528 - acc: 0.8534\n",
            "Epoch 7/20\n",
            "70000/70000 [==============================] - 1s 16us/step - loss: 0.3419 - acc: 0.8591\n",
            "Epoch 8/20\n",
            "70000/70000 [==============================] - 1s 16us/step - loss: 0.3328 - acc: 0.8648\n",
            "Epoch 9/20\n",
            "58368/70000 [========================>.....] - ETA: 0s - loss: 0.3296 - acc: 0.8668"
          ],
          "name": "stdout"
        },
        {
          "output_type": "stream",
          "text": [
            "70000/70000 [==============================] - 1s 16us/step - loss: 0.3284 - acc: 0.8674\n",
            "Epoch 10/20\n",
            "70000/70000 [==============================] - 1s 16us/step - loss: 0.3228 - acc: 0.8707\n",
            "Epoch 11/20\n",
            "70000/70000 [==============================] - 1s 16us/step - loss: 0.3172 - acc: 0.8734\n",
            "Epoch 12/20\n",
            "70000/70000 [==============================] - 1s 16us/step - loss: 0.3129 - acc: 0.8766\n",
            "Epoch 13/20\n",
            "70000/70000 [==============================] - 1s 16us/step - loss: 0.3099 - acc: 0.8798\n",
            "Epoch 14/20\n",
            "70000/70000 [==============================] - 1s 16us/step - loss: 0.3032 - acc: 0.8824\n",
            "Epoch 15/20\n",
            "70000/70000 [==============================] - 1s 16us/step - loss: 0.2995 - acc: 0.8842\n",
            "Epoch 16/20\n",
            "70000/70000 [==============================] - 1s 16us/step - loss: 0.2988 - acc: 0.8844\n",
            "Epoch 17/20\n",
            "65024/70000 [==========================>...] - ETA: 0s - loss: 0.2942 - acc: 0.8859"
          ],
          "name": "stdout"
        },
        {
          "output_type": "stream",
          "text": [
            "70000/70000 [==============================] - 1s 17us/step - loss: 0.2940 - acc: 0.8859\n",
            "Epoch 18/20\n",
            "70000/70000 [==============================] - 1s 17us/step - loss: 0.2934 - acc: 0.8873\n",
            "Epoch 19/20\n",
            "70000/70000 [==============================] - 1s 17us/step - loss: 0.2896 - acc: 0.8887\n",
            "Epoch 20/20\n",
            "70000/70000 [==============================] - 1s 17us/step - loss: 0.2895 - acc: 0.8889\n",
            "Test score: 0.25863016778628034\n",
            "Test accuracy: 0.9067333333651225\n"
          ],
          "name": "stdout"
        }
      ]
    },
    {
      "metadata": {
        "id": "USW7UMkUz0JI",
        "colab_type": "code",
        "colab": {
          "base_uri": "https://localhost:8080/",
          "height": 1020
        },
        "outputId": "5d1a1411-5c13-4319-897c-020e4bcc816c"
      },
      "cell_type": "code",
      "source": [
        "model = Sequential()\n",
        "model.add(Dense(64, input_dim=20, activation='sigmoid'))\n",
        "model.add(Dropout(0.5))\n",
        "model.add(Dense(64, activation='sigmoid'))\n",
        "model.add(Dropout(0.5))\n",
        "model.add(Dense(1, activation='sigmoid'))\n",
        "\n",
        "model.compile(loss='binary_crossentropy',\n",
        "              optimizer='rmsprop',\n",
        "              metrics=['accuracy'])\n",
        "model.fit(X_train, y_train,\n",
        "          epochs=20,\n",
        "          batch_size=128)\n",
        "\n",
        "model.summary()\n",
        "\n",
        "score = model.evaluate(X_test, y_test, verbose=0, batch_size=128)\n",
        "print('Test score:', score[0])\n",
        "print('Test accuracy:', score[1])\n",
        "\n",
        "# Prediction \n",
        "y_pred = model.predict(X_test)\n"
      ],
      "execution_count": 5,
      "outputs": [
        {
          "output_type": "stream",
          "text": [
            "Epoch 1/20\n",
            "70000/70000 [==============================] - 1s 18us/step - loss: 0.5916 - acc: 0.6760\n",
            "Epoch 2/20\n",
            "70000/70000 [==============================] - 1s 16us/step - loss: 0.4553 - acc: 0.7892\n",
            "Epoch 3/20\n",
            "70000/70000 [==============================] - 1s 16us/step - loss: 0.4119 - acc: 0.8179\n",
            "Epoch 4/20\n",
            "70000/70000 [==============================] - 1s 16us/step - loss: 0.3871 - acc: 0.8335\n",
            "Epoch 5/20\n",
            "70000/70000 [==============================] - 1s 16us/step - loss: 0.3692 - acc: 0.8431\n",
            "Epoch 6/20\n",
            "70000/70000 [==============================] - 1s 16us/step - loss: 0.3573 - acc: 0.8496\n",
            "Epoch 7/20\n",
            "70000/70000 [==============================] - 1s 15us/step - loss: 0.3436 - acc: 0.8570\n",
            "Epoch 8/20\n",
            "70000/70000 [==============================] - 1s 16us/step - loss: 0.3385 - acc: 0.8601\n",
            "Epoch 9/20\n",
            "66560/70000 [===========================>..] - ETA: 0s - loss: 0.3328 - acc: 0.8633"
          ],
          "name": "stdout"
        },
        {
          "output_type": "stream",
          "text": [
            "70000/70000 [==============================] - 1s 15us/step - loss: 0.3317 - acc: 0.8638\n",
            "Epoch 10/20\n",
            "70000/70000 [==============================] - 1s 16us/step - loss: 0.3226 - acc: 0.8678\n",
            "Epoch 11/20\n",
            "70000/70000 [==============================] - 1s 15us/step - loss: 0.3156 - acc: 0.8723\n",
            "Epoch 12/20\n",
            "70000/70000 [==============================] - 1s 16us/step - loss: 0.3111 - acc: 0.8747\n",
            "Epoch 13/20\n",
            "70000/70000 [==============================] - 1s 16us/step - loss: 0.3061 - acc: 0.8769\n",
            "Epoch 14/20\n",
            "70000/70000 [==============================] - 1s 16us/step - loss: 0.3024 - acc: 0.8799\n",
            "Epoch 15/20\n",
            "70000/70000 [==============================] - 1s 16us/step - loss: 0.2987 - acc: 0.8805\n",
            "Epoch 16/20\n",
            "70000/70000 [==============================] - 1s 15us/step - loss: 0.2957 - acc: 0.8824\n",
            "Epoch 17/20\n",
            "70000/70000 [==============================] - 1s 16us/step - loss: 0.2927 - acc: 0.8820\n",
            "Epoch 18/20\n",
            "  128/70000 [..............................] - ETA: 4s - loss: 0.3185 - acc: 0.8828"
          ],
          "name": "stdout"
        },
        {
          "output_type": "stream",
          "text": [
            "70000/70000 [==============================] - 1s 16us/step - loss: 0.2898 - acc: 0.8846\n",
            "Epoch 19/20\n",
            "70000/70000 [==============================] - 1s 16us/step - loss: 0.2894 - acc: 0.8863\n",
            "Epoch 20/20\n",
            "70000/70000 [==============================] - 1s 16us/step - loss: 0.2863 - acc: 0.8871\n",
            "_________________________________________________________________\n",
            "Layer (type)                 Output Shape              Param #   \n",
            "=================================================================\n",
            "dense_4 (Dense)              (None, 64)                1344      \n",
            "_________________________________________________________________\n",
            "dropout_3 (Dropout)          (None, 64)                0         \n",
            "_________________________________________________________________\n",
            "dense_5 (Dense)              (None, 64)                4160      \n",
            "_________________________________________________________________\n",
            "dropout_4 (Dropout)          (None, 64)                0         \n",
            "_________________________________________________________________\n",
            "dense_6 (Dense)              (None, 1)                 65        \n",
            "=================================================================\n",
            "Total params: 5,569\n",
            "Trainable params: 5,569\n",
            "Non-trainable params: 0\n",
            "_________________________________________________________________\n",
            "Test score: 0.2480046356678009\n",
            "Test accuracy: 0.9013666666984558\n"
          ],
          "name": "stdout"
        }
      ]
    },
    {
      "metadata": {
        "id": "MfoKZwSV06vd",
        "colab_type": "code",
        "colab": {
          "base_uri": "https://localhost:8080/",
          "height": 1020
        },
        "outputId": "bcdf7494-a803-4cb9-d04e-b26552cb6868"
      },
      "cell_type": "code",
      "source": [
        "model = Sequential()\n",
        "model.add(Dense(32, input_dim=20, activation='relu'))\n",
        "model.add(Dropout(0.5))\n",
        "model.add(Dense(32, activation='relu'))\n",
        "model.add(Dropout(0.5))\n",
        "model.add(Dense(1, activation='sigmoid'))\n",
        "\n",
        "model.compile(loss='binary_crossentropy',\n",
        "              optimizer='rmsprop',\n",
        "              metrics=['accuracy'])\n",
        "model.fit(X_train, y_train,\n",
        "          epochs=20,\n",
        "          batch_size=128)\n",
        "\n",
        "model.summary()\n",
        "\n",
        "score = model.evaluate(X_test, y_test, verbose=0, batch_size=128)\n",
        "print('Test score:', score[0])\n",
        "print('Test accuracy:', score[1])\n",
        "\n",
        "# Prediction \n",
        "y_pred = model.predict(X_test)\n"
      ],
      "execution_count": 6,
      "outputs": [
        {
          "output_type": "stream",
          "text": [
            "Epoch 1/20\n",
            "70000/70000 [==============================] - 1s 16us/step - loss: 1.1221 - acc: 0.6422\n",
            "Epoch 2/20\n",
            "70000/70000 [==============================] - 1s 14us/step - loss: 0.5108 - acc: 0.7517\n",
            "Epoch 3/20\n",
            "70000/70000 [==============================] - 1s 14us/step - loss: 0.4547 - acc: 0.7913\n",
            "Epoch 4/20\n",
            "70000/70000 [==============================] - 1s 14us/step - loss: 0.4207 - acc: 0.8126\n",
            "Epoch 5/20\n",
            "70000/70000 [==============================] - 1s 14us/step - loss: 0.4048 - acc: 0.8212\n",
            "Epoch 6/20\n",
            "70000/70000 [==============================] - 1s 14us/step - loss: 0.3898 - acc: 0.8333\n",
            "Epoch 7/20\n",
            "70000/70000 [==============================] - 1s 14us/step - loss: 0.3799 - acc: 0.8399\n",
            "Epoch 8/20\n",
            "70000/70000 [==============================] - 1s 14us/step - loss: 0.3677 - acc: 0.8473\n",
            "Epoch 9/20\n",
            "70000/70000 [==============================] - 1s 14us/step - loss: 0.3593 - acc: 0.8503\n",
            "Epoch 10/20\n",
            "30592/70000 [============>.................] - ETA: 0s - loss: 0.3543 - acc: 0.8557"
          ],
          "name": "stdout"
        },
        {
          "output_type": "stream",
          "text": [
            "70000/70000 [==============================] - 1s 14us/step - loss: 0.3532 - acc: 0.8569\n",
            "Epoch 11/20\n",
            "70000/70000 [==============================] - 1s 14us/step - loss: 0.3459 - acc: 0.8592\n",
            "Epoch 12/20\n",
            "70000/70000 [==============================] - 1s 13us/step - loss: 0.3420 - acc: 0.8623\n",
            "Epoch 13/20\n",
            "70000/70000 [==============================] - 1s 14us/step - loss: 0.3415 - acc: 0.8623\n",
            "Epoch 14/20\n",
            "70000/70000 [==============================] - 1s 14us/step - loss: 0.3367 - acc: 0.8638\n",
            "Epoch 15/20\n",
            "70000/70000 [==============================] - 1s 14us/step - loss: 0.3319 - acc: 0.8652\n",
            "Epoch 16/20\n",
            "70000/70000 [==============================] - 1s 14us/step - loss: 0.3310 - acc: 0.8667\n",
            "Epoch 17/20\n",
            "70000/70000 [==============================] - 1s 14us/step - loss: 0.3267 - acc: 0.8686\n",
            "Epoch 18/20\n",
            "70000/70000 [==============================] - 1s 14us/step - loss: 0.3247 - acc: 0.8713\n",
            "Epoch 19/20\n",
            "37120/70000 [==============>...............] - ETA: 0s - loss: 0.3221 - acc: 0.8710"
          ],
          "name": "stdout"
        },
        {
          "output_type": "stream",
          "text": [
            "70000/70000 [==============================] - 1s 14us/step - loss: 0.3227 - acc: 0.8708\n",
            "Epoch 20/20\n",
            "70000/70000 [==============================] - 1s 14us/step - loss: 0.3212 - acc: 0.8709\n",
            "_________________________________________________________________\n",
            "Layer (type)                 Output Shape              Param #   \n",
            "=================================================================\n",
            "dense_7 (Dense)              (None, 32)                672       \n",
            "_________________________________________________________________\n",
            "dropout_5 (Dropout)          (None, 32)                0         \n",
            "_________________________________________________________________\n",
            "dense_8 (Dense)              (None, 32)                1056      \n",
            "_________________________________________________________________\n",
            "dropout_6 (Dropout)          (None, 32)                0         \n",
            "_________________________________________________________________\n",
            "dense_9 (Dense)              (None, 1)                 33        \n",
            "=================================================================\n",
            "Total params: 1,761\n",
            "Trainable params: 1,761\n",
            "Non-trainable params: 0\n",
            "_________________________________________________________________\n",
            "Test score: 0.28619009306430815\n",
            "Test accuracy: 0.8976666666348775\n"
          ],
          "name": "stdout"
        }
      ]
    }
  ]
}
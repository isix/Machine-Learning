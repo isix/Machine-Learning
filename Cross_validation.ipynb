{
  "nbformat": 4,
  "nbformat_minor": 0,
  "metadata": {
    "colab": {
      "name": "Cross-validation.ipynb",
      "version": "0.3.2",
      "provenance": [],
      "collapsed_sections": []
    },
    "kernelspec": {
      "name": "python3",
      "display_name": "Python 3"
    }
  },
  "cells": [
    {
      "metadata": {
        "id": "kzDEc4lO7A-a",
        "colab_type": "text"
      },
      "cell_type": "markdown",
      "source": [
        "# Cross-validation for parameter tuning, model selection, and feature selection\n",
        "\n",
        "REFERENCE: https://github.com/justmarkham/scikit-learn-videos/blob/master/07_cross_validation.ipynb"
      ]
    },
    {
      "metadata": {
        "id": "iqy54zj67Aa3",
        "colab_type": "code",
        "colab": {}
      },
      "cell_type": "code",
      "source": [
        "from sklearn.datasets import load_iris\n",
        "from sklearn.model_selection import train_test_split\n",
        "from sklearn.neighbors import KNeighborsClassifier\n",
        "from sklearn import metrics"
      ],
      "execution_count": 0,
      "outputs": []
    },
    {
      "metadata": {
        "id": "VNTkxyQW7QUH",
        "colab_type": "code",
        "colab": {}
      },
      "cell_type": "code",
      "source": [
        "# read in the iris data\n",
        "iris = load_iris()\n",
        "\n",
        "# create X (features) and y (response)\n",
        "X = iris.data\n",
        "y = iris.target"
      ],
      "execution_count": 0,
      "outputs": []
    },
    {
      "metadata": {
        "id": "wQdjTFkI7TVv",
        "colab_type": "code",
        "colab": {
          "base_uri": "https://localhost:8080/",
          "height": 34
        },
        "outputId": "6c461d43-da4e-4e6a-d91d-d5b5dfaece0f"
      },
      "cell_type": "code",
      "source": [
        "# use train/test split with different random_state values\n",
        "X_train, X_test, y_train, y_test = train_test_split(X, y, random_state=4)\n",
        "\n",
        "# check classification accuracy of KNN with K=5\n",
        "knn = KNeighborsClassifier(n_neighbors=5)\n",
        "knn.fit(X_train, y_train)\n",
        "y_pred = knn.predict(X_test)\n",
        "print(metrics.accuracy_score(y_test, y_pred))"
      ],
      "execution_count": 117,
      "outputs": [
        {
          "output_type": "stream",
          "text": [
            "0.9736842105263158\n"
          ],
          "name": "stdout"
        }
      ]
    },
    {
      "metadata": {
        "id": "gFW3Xx1_7KKn",
        "colab_type": "text"
      },
      "cell_type": "markdown",
      "source": [
        "Question: What if we created a bunch of train/test splits, calculated the testing accuracy for each, and averaged the results together?\n",
        "\n",
        "Answer: That's the essense of cross-validation!"
      ]
    },
    {
      "metadata": {
        "id": "Ph667Elt8TSS",
        "colab_type": "text"
      },
      "cell_type": "markdown",
      "source": [
        "KFold reference: http://scikit-learn.org/stable/modules/generated/sklearn.model_selection.KFold.html\n"
      ]
    },
    {
      "metadata": {
        "id": "j1eEQYOg7Vjv",
        "colab_type": "code",
        "colab": {
          "base_uri": "https://localhost:8080/",
          "height": 34
        },
        "outputId": "82cc30f0-81c7-4e06-8bb4-caef07ce49e1"
      },
      "cell_type": "code",
      "source": [
        "# simulate splitting a dataset of 25 observations into 5 folds\n",
        "from sklearn.model_selection import KFold\n",
        "\n",
        "kf = KFold(n_splits = 5, shuffle = False)\n",
        "kf.get_n_splits(X)\n",
        "\n"
      ],
      "execution_count": 118,
      "outputs": [
        {
          "output_type": "execute_result",
          "data": {
            "text/plain": [
              "5"
            ]
          },
          "metadata": {
            "tags": []
          },
          "execution_count": 118
        }
      ]
    },
    {
      "metadata": {
        "id": "TZUEf0sC8suY",
        "colab_type": "code",
        "colab": {
          "base_uri": "https://localhost:8080/",
          "height": 2261
        },
        "outputId": "294bfa90-366c-4469-f979-50bd1eed196d"
      },
      "cell_type": "code",
      "source": [
        "# Thanks \n",
        "# https://stackoverflow.com/questions/46633273/sklearn-kfold-returning-wrong-indexes-in-python?utm_medium=organic&utm_source=google_rich_qa&utm_campaign=google_rich_qa\n",
        "# https://stackoverflow.com/questions/38105539/how-to-convert-a-scikit-learn-dataset-to-a-pandas-dataset?utm_medium=organic&utm_source=google_rich_qa&utm_campaign=google_rich_qa\n",
        "import numpy as np\n",
        "import pandas as pd\n",
        "from sklearn.datasets import load_iris\n",
        "\n",
        "dfdata = pd.DataFrame(data= np.c_[iris['data'], iris['target']],\n",
        "                     columns= iris['feature_names'] + ['target'])\n",
        "\n",
        "print(dfdata.shape)\n",
        "print(kf.get_n_splits(dfdata))\n",
        "\n",
        "kf = KFold(n_splits = 10, shuffle = True )\n",
        "interaction = 0\n",
        "for train_index, test_index in kf.split(dfdata):\n",
        "    train_data = dfdata.iloc[train_index]\n",
        "    test_data = dfdata.iloc[test_index]\n",
        "    interaction += 1\n",
        "    print(\"Interaction (fold)\", interaction,\"\\n\",\n",
        "          \"Training data index: \\n\",train_index,\"\\n\",\n",
        "          \"Test data index: \\n\", test_index,\"\\n\")    \n"
      ],
      "execution_count": 119,
      "outputs": [
        {
          "output_type": "stream",
          "text": [
            "(150, 5)\n",
            "5\n",
            "Interaction (fold) 1 \n",
            " Training data index: \n",
            " [  0   1   2   3   4   6   7   8   9  10  11  12  13  14  15  16  17  18\n",
            "  20  21  22  24  25  26  27  28  29  30  31  32  33  34  35  36  37  38\n",
            "  39  40  41  42  43  44  45  46  47  48  49  50  51  52  53  54  56  57\n",
            "  59  60  61  62  63  64  65  66  67  68  69  70  71  72  73  74  75  76\n",
            "  77  78  79  80  81  82  83  85  86  87  88  90  91  93  94  95  96  97\n",
            "  98  99 100 101 102 104 105 107 108 109 110 111 112 113 114 115 116 117\n",
            " 118 120 121 122 124 125 126 127 128 129 130 131 132 133 134 135 136 137\n",
            " 138 139 141 143 144 145 146 148 149] \n",
            " Test data index: \n",
            " [  5  19  23  55  58  84  89  92 103 106 119 123 140 142 147] \n",
            "\n",
            "Interaction (fold) 2 \n",
            " Training data index: \n",
            " [  0   1   2   3   4   5   6   7   9  10  11  12  13  15  16  17  18  19\n",
            "  20  22  23  24  25  26  27  28  29  30  31  32  33  35  36  37  38  39\n",
            "  40  42  43  44  46  47  48  49  50  51  52  53  54  55  56  57  58  59\n",
            "  60  61  62  63  64  65  66  67  68  69  70  71  72  73  74  75  76  77\n",
            "  78  79  80  81  82  83  84  85  86  87  88  89  90  92  93  94  95  96\n",
            "  97  98  99 100 101 103 104 105 106 107 108 109 110 111 112 113 115 116\n",
            " 118 119 121 122 123 124 125 126 127 128 129 130 131 132 133 134 135 136\n",
            " 138 140 142 143 144 145 146 147 148] \n",
            " Test data index: \n",
            " [  8  14  21  34  41  45  91 102 114 117 120 137 139 141 149] \n",
            "\n",
            "Interaction (fold) 3 \n",
            " Training data index: \n",
            " [  1   2   3   4   5   6   8  10  11  13  14  15  16  17  18  19  21  22\n",
            "  23  24  25  26  27  28  29  30  31  33  34  35  36  37  38  39  40  41\n",
            "  42  43  44  45  46  47  48  50  52  53  55  56  57  58  59  61  62  63\n",
            "  64  65  66  68  69  70  71  72  73  74  75  76  77  78  79  81  82  83\n",
            "  84  85  86  87  88  89  90  91  92  93  94  95  96  97  98  99 101 102\n",
            " 103 104 106 107 108 109 110 111 112 113 114 115 116 117 118 119 120 121\n",
            " 122 123 124 125 126 127 128 129 130 131 132 133 135 136 137 138 139 140\n",
            " 141 142 143 144 145 146 147 148 149] \n",
            " Test data index: \n",
            " [  0   7   9  12  20  32  49  51  54  60  67  80 100 105 134] \n",
            "\n",
            "Interaction (fold) 4 \n",
            " Training data index: \n",
            " [  0   1   3   5   6   7   8   9  11  12  13  14  15  16  17  18  19  20\n",
            "  21  22  23  24  25  27  29  30  31  32  33  34  35  36  38  39  40  41\n",
            "  42  43  44  45  46  48  49  50  51  52  53  54  55  56  57  58  59  60\n",
            "  63  64  65  66  67  68  69  70  71  72  73  74  75  76  77  78  79  80\n",
            "  81  82  83  84  85  87  88  89  90  91  92  93  94  95  96  97  98  99\n",
            " 100 101 102 103 104 105 106 107 108 109 110 111 112 113 114 116 117 118\n",
            " 119 120 121 122 123 124 125 126 127 129 130 131 133 134 135 136 137 139\n",
            " 140 141 142 143 144 145 146 147 149] \n",
            " Test data index: \n",
            " [  2   4  10  26  28  37  47  61  62  86 115 128 132 138 148] \n",
            "\n",
            "Interaction (fold) 5 \n",
            " Training data index: \n",
            " [  0   1   2   3   4   5   6   7   8   9  10  12  13  14  15  17  19  20\n",
            "  21  23  24  25  26  28  29  30  32  33  34  35  36  37  38  39  41  43\n",
            "  44  45  46  47  48  49  50  51  53  54  55  56  57  58  60  61  62  63\n",
            "  64  66  67  68  69  70  71  72  73  74  75  77  78  79  80  81  82  83\n",
            "  84  85  86  87  88  89  90  91  92  93  94  95  96  97  98  99 100 101\n",
            " 102 103 104 105 106 107 108 110 111 112 114 115 116 117 119 120 121 122\n",
            " 123 124 125 126 127 128 129 130 131 132 133 134 135 136 137 138 139 140\n",
            " 141 142 143 144 145 146 147 148 149] \n",
            " Test data index: \n",
            " [ 11  16  18  22  27  31  40  42  52  59  65  76 109 113 118] \n",
            "\n",
            "Interaction (fold) 6 \n",
            " Training data index: \n",
            " [  0   1   2   3   4   5   7   8   9  10  11  12  13  14  15  16  17  18\n",
            "  19  20  21  22  23  24  25  26  27  28  29  31  32  33  34  35  36  37\n",
            "  38  39  40  41  42  43  44  45  46  47  48  49  50  51  52  53  54  55\n",
            "  56  57  58  59  60  61  62  64  65  66  67  69  70  71  72  73  76  77\n",
            "  78  79  80  81  82  83  84  85  86  89  90  91  92  93  94  96  97  98\n",
            "  99 100 101 102 103 104 105 106 107 109 110 111 113 114 115 116 117 118\n",
            " 119 120 121 122 123 124 125 126 127 128 130 131 132 134 136 137 138 139\n",
            " 140 141 142 143 145 146 147 148 149] \n",
            " Test data index: \n",
            " [  6  30  63  68  74  75  87  88  95 108 112 129 133 135 144] \n",
            "\n",
            "Interaction (fold) 7 \n",
            " Training data index: \n",
            " [  0   2   3   4   5   6   7   8   9  10  11  12  13  14  15  16  18  19\n",
            "  20  21  22  23  24  26  27  28  30  31  32  33  34  35  37  38  39  40\n",
            "  41  42  43  44  45  47  48  49  50  51  52  53  54  55  56  58  59  60\n",
            "  61  62  63  64  65  66  67  68  69  70  71  72  73  74  75  76  77  78\n",
            "  79  80  81  82  83  84  85  86  87  88  89  90  91  92  93  94  95  97\n",
            "  98 100 101 102 103 105 106 108 109 111 112 113 114 115 116 117 118 119\n",
            " 120 123 124 125 126 127 128 129 130 131 132 133 134 135 136 137 138 139\n",
            " 140 141 142 144 145 146 147 148 149] \n",
            " Test data index: \n",
            " [  1  17  25  29  36  46  57  96  99 104 107 110 121 122 143] \n",
            "\n",
            "Interaction (fold) 8 \n",
            " Training data index: \n",
            " [  0   1   2   3   4   5   6   7   8   9  10  11  12  13  14  16  17  18\n",
            "  19  20  21  22  23  24  25  26  27  28  29  30  31  32  33  34  35  36\n",
            "  37  38  40  41  42  44  45  46  47  48  49  50  51  52  54  55  56  57\n",
            "  58  59  60  61  62  63  64  65  66  67  68  71  73  74  75  76  77  78\n",
            "  79  80  84  86  87  88  89  90  91  92  93  94  95  96  97  98  99 100\n",
            " 101 102 103 104 105 106 107 108 109 110 111 112 113 114 115 116 117 118\n",
            " 119 120 121 122 123 124 127 128 129 130 132 133 134 135 136 137 138 139\n",
            " 140 141 142 143 144 146 147 148 149] \n",
            " Test data index: \n",
            " [ 15  39  43  53  69  70  72  81  82  83  85 125 126 131 145] \n",
            "\n",
            "Interaction (fold) 9 \n",
            " Training data index: \n",
            " [  0   1   2   3   4   5   6   7   8   9  10  11  12  13  14  15  16  17\n",
            "  18  19  20  21  22  23  24  25  26  27  28  29  30  31  32  34  36  37\n",
            "  38  39  40  41  42  43  44  45  46  47  48  49  51  52  53  54  55  56\n",
            "  57  58  59  60  61  62  63  65  66  67  68  69  70  72  74  75  76  79\n",
            "  80  81  82  83  84  85  86  87  88  89  90  91  92  94  95  96  98  99\n",
            " 100 102 103 104 105 106 107 108 109 110 112 113 114 115 117 118 119 120\n",
            " 121 122 123 124 125 126 128 129 130 131 132 133 134 135 137 138 139 140\n",
            " 141 142 143 144 145 146 147 148 149] \n",
            " Test data index: \n",
            " [ 33  35  50  64  71  73  77  78  93  97 101 111 116 127 136] \n",
            "\n",
            "Interaction (fold) 10 \n",
            " Training data index: \n",
            " [  0   1   2   4   5   6   7   8   9  10  11  12  14  15  16  17  18  19\n",
            "  20  21  22  23  25  26  27  28  29  30  31  32  33  34  35  36  37  39\n",
            "  40  41  42  43  45  46  47  49  50  51  52  53  54  55  57  58  59  60\n",
            "  61  62  63  64  65  67  68  69  70  71  72  73  74  75  76  77  78  80\n",
            "  81  82  83  84  85  86  87  88  89  91  92  93  95  96  97  99 100 101\n",
            " 102 103 104 105 106 107 108 109 110 111 112 113 114 115 116 117 118 119\n",
            " 120 121 122 123 125 126 127 128 129 131 132 133 134 135 136 137 138 139\n",
            " 140 141 142 143 144 145 147 148 149] \n",
            " Test data index: \n",
            " [  3  13  24  38  44  48  56  66  79  90  94  98 124 130 146] \n",
            "\n"
          ],
          "name": "stdout"
        }
      ]
    },
    {
      "metadata": {
        "id": "vhOtpBb2CkfP",
        "colab_type": "text"
      },
      "cell_type": "markdown",
      "source": [
        "## Comparing cross-validation to train/test split\n",
        "### Advantages of cross-validation:\n",
        "\n",
        "* More accurate estimate of out-of-sample accuracy\n",
        "* More \"efficient\" use of data (every observation is used for both training and testing)\n",
        "\n",
        "### Advantages of train/test split:\n",
        "\n",
        "* Runs K times faster than K-fold cross-validation\n",
        "* Simpler to examine the detailed results of the testing process\n",
        "\n",
        "##  Cross-validation recommendations\n",
        "- K can be any number, but K=10 is generally recommended\n",
        "- For classification problems, stratified sampling is recommended for creating the folds\n",
        "- Each response class should be represented with equal proportions in each of the K folds\n",
        "- scikit-learn's cross_val_score function does this by default\n"
      ]
    },
    {
      "metadata": {
        "id": "UTHxpVbRDTR2",
        "colab_type": "text"
      },
      "cell_type": "markdown",
      "source": [
        "# Selecting parameters\n",
        "\n",
        "http://scikit-learn.org/stable/modules/generated/sklearn.model_selection.cross_val_score.html"
      ]
    },
    {
      "metadata": {
        "id": "gQRHNDyMCTF3",
        "colab_type": "code",
        "colab": {
          "base_uri": "https://localhost:8080/",
          "height": 68
        },
        "outputId": "14d4c4a0-00d7-4ef1-d19b-df09a2c82a63"
      },
      "cell_type": "code",
      "source": [
        "from sklearn.cross_validation import cross_val_score\n",
        "\n",
        "# 10-fold cross-validation with K=5 for KNN (the n_neighbors parameter)\n",
        "knn = KNeighborsClassifier(n_neighbors=5)\n",
        "scores = cross_val_score(knn, X, y, cv=10, scoring='accuracy')\n",
        "print(scores)\n",
        "\n",
        "# use average accuracy as an estimate of out-of-sample accuracy\n",
        "print(\"Mean score:\", scores.mean())"
      ],
      "execution_count": 120,
      "outputs": [
        {
          "output_type": "stream",
          "text": [
            "[1.         0.93333333 1.         1.         0.86666667 0.93333333\n",
            " 0.93333333 1.         1.         1.        ]\n",
            "Mean score: 0.9666666666666668\n"
          ],
          "name": "stdout"
        }
      ]
    },
    {
      "metadata": {
        "id": "B4xi40JfD_B3",
        "colab_type": "code",
        "colab": {
          "base_uri": "https://localhost:8080/",
          "height": 395
        },
        "outputId": "f1f37ca5-5e73-4694-fac2-4150c7533be7"
      },
      "cell_type": "code",
      "source": [
        "# search for an optimal value of K for KNN\n",
        "k_range = list(range(1, 31))\n",
        "cross_valid_folds = 10\n",
        "k_scores = []\n",
        "k_std = []\n",
        "\n",
        "for k in k_range:\n",
        "    knn = KNeighborsClassifier(n_neighbors=k)\n",
        "    scores = cross_val_score(knn, X, y, cv=cross_valid_folds, scoring='accuracy')\n",
        "    k_scores.append(scores.mean())\n",
        "    k_std.append(scores.std())\n",
        "    \n",
        "dataCV = pd.DataFrame([k_range, k_scores, k_std]).T\n",
        "dataCV.columns = [\"n_neighbors\", \"Scores\", \"Starndard_deviation\"]\n",
        "dataCV\n",
        "\n",
        "\n",
        "%matplotlib inline\n",
        "import numpy as np\n",
        "import pandas as pd\n",
        "import matplotlib as mpl\n",
        "import matplotlib.pyplot as plt\n",
        "import seaborn as sns\n",
        "sns.set(style=\"whitegrid\", color_codes=True)\n",
        "\n",
        "sns.pointplot(x=\"n_neighbors\", y=\"Scores\", data=dataCV, jitter=True);\n",
        "sns.stripplot(x=\"n_neighbors\", y=\"Scores\", data=dataCV, jitter=True);\n"
      ],
      "execution_count": 121,
      "outputs": [
        {
          "output_type": "stream",
          "text": [
            "/usr/local/lib/python3.6/dist-packages/seaborn/categorical.py:1428: FutureWarning: remove_na is deprecated and is a private function. Do not use.\n",
            "  stat_data = remove_na(group_data)\n"
          ],
          "name": "stderr"
        },
        {
          "output_type": "display_data",
          "data": {
            "image/png": "[encoded data removed]",
            "text/plain": [
              "<matplotlib.figure.Figure at 0x7fec4a2737f0>"
            ]
          },
          "metadata": {
            "tags": []
          }
        }
      ]
    },
    {
      "metadata": {
        "id": "rqRlKK0oOVNp",
        "colab_type": "code",
        "colab": {
          "base_uri": "https://localhost:8080/",
          "height": 718
        },
        "outputId": "3f214564-7c40-4dcd-de98-0fd17234865d"
      },
      "cell_type": "code",
      "source": [
        "# search for an optimal value of K for KNN\n",
        "k_range = list(range(1, 20))\n",
        "cross_valid_folds = 10\n",
        "k_scores = []\n",
        "k_parms = []\n",
        "\n",
        "for k in k_range:\n",
        "    knn = KNeighborsClassifier(n_neighbors=k)\n",
        "    scores = cross_val_score(knn, X, y, cv=cross_valid_folds, scoring='accuracy')\n",
        "    print(list(scores))\n",
        "    parms = [k] * cross_valid_folds\n",
        "    k_scores = k_scores + list(scores)\n",
        "    k_parms = k_parms + parms\n",
        "    \n",
        "dataCV = pd.DataFrame([k_parms, k_scores]).T\n",
        "dataCV.columns = [\"n_neighbors\", \"Scores\"]\n",
        "# display(dataCV)\n",
        "\n",
        "\n",
        "%matplotlib inline\n",
        "import numpy as np\n",
        "import pandas as pd\n",
        "import matplotlib as mpl\n",
        "import matplotlib.pyplot as plt\n",
        "import seaborn as sns\n",
        "sns.set(style=\"whitegrid\", color_codes=True)\n",
        "\n",
        "sns.boxplot(x=\"n_neighbors\", y=\"Scores\", data=dataCV);\n",
        "\n",
        "# sns.pointplot(x=\"n_neighbors\", y=\"Scores\", data=dataCV, jitter=True);\n",
        "# sns.stripplot(x=\"n_neighbors\", y=\"Scores\", data=dataCV, jitter=True);\n"
      ],
      "execution_count": 122,
      "outputs": [
        {
          "output_type": "stream",
          "text": [
            "[1.0, 0.9333333333333333, 1.0, 0.9333333333333333, 0.8666666666666667, 1.0, 0.8666666666666667, 1.0, 1.0, 1.0]\n",
            "[1.0, 0.9333333333333333, 1.0, 0.9333333333333333, 0.8666666666666667, 1.0, 0.8666666666666667, 0.9333333333333333, 1.0, 1.0]\n",
            "[1.0, 0.9333333333333333, 1.0, 0.9333333333333333, 0.8666666666666667, 1.0, 0.9333333333333333, 1.0, 1.0, 1.0]\n",
            "[1.0, 0.9333333333333333, 1.0, 0.9333333333333333, 0.8666666666666667, 1.0, 0.9333333333333333, 1.0, 1.0, 1.0]\n",
            "[1.0, 0.9333333333333333, 1.0, 1.0, 0.8666666666666667, 0.9333333333333333, 0.9333333333333333, 1.0, 1.0, 1.0]\n",
            "[1.0, 0.9333333333333333, 1.0, 1.0, 0.8666666666666667, 0.9333333333333333, 0.9333333333333333, 1.0, 1.0, 1.0]\n",
            "[1.0, 0.9333333333333333, 1.0, 1.0, 0.8666666666666667, 0.9333333333333333, 0.9333333333333333, 1.0, 1.0, 1.0]\n",
            "[1.0, 0.9333333333333333, 1.0, 1.0, 1.0, 0.8666666666666667, 0.9333333333333333, 0.9333333333333333, 1.0, 1.0]\n",
            "[1.0, 0.9333333333333333, 1.0, 1.0, 1.0, 0.9333333333333333, 0.9333333333333333, 0.9333333333333333, 1.0, 1.0]\n",
            "[1.0, 0.9333333333333333, 1.0, 1.0, 1.0, 0.8666666666666667, 0.9333333333333333, 0.9333333333333333, 1.0, 1.0]\n",
            "[1.0, 0.9333333333333333, 1.0, 1.0, 1.0, 0.8666666666666667, 0.9333333333333333, 0.9333333333333333, 1.0, 1.0]\n",
            "[1.0, 0.9333333333333333, 1.0, 1.0, 1.0, 0.9333333333333333, 0.9333333333333333, 0.9333333333333333, 1.0, 1.0]\n",
            "[1.0, 0.9333333333333333, 1.0, 1.0, 1.0, 0.9333333333333333, 0.9333333333333333, 1.0, 1.0, 1.0]\n",
            "[1.0, 0.9333333333333333, 1.0, 1.0, 1.0, 0.8666666666666667, 0.9333333333333333, 1.0, 1.0, 1.0]\n",
            "[0.9333333333333333, 0.9333333333333333, 1.0, 1.0, 1.0, 0.9333333333333333, 0.9333333333333333, 1.0, 1.0, 1.0]\n",
            "[1.0, 0.9333333333333333, 1.0, 1.0, 1.0, 0.9333333333333333, 0.9333333333333333, 0.9333333333333333, 1.0, 1.0]\n",
            "[0.9333333333333333, 0.9333333333333333, 1.0, 1.0, 1.0, 0.9333333333333333, 0.9333333333333333, 1.0, 1.0, 1.0]\n",
            "[1.0, 0.9333333333333333, 1.0, 1.0, 1.0, 0.9333333333333333, 0.9333333333333333, 1.0, 1.0, 1.0]\n",
            "[0.9333333333333333, 0.9333333333333333, 1.0, 1.0, 1.0, 0.9333333333333333, 0.9333333333333333, 1.0, 1.0, 1.0]\n"
          ],
          "name": "stdout"
        },
        {
          "output_type": "stream",
          "text": [
            "/usr/local/lib/python3.6/dist-packages/seaborn/categorical.py:454: FutureWarning: remove_na is deprecated and is a private function. Do not use.\n",
            "  box_data = remove_na(group_data)\n"
          ],
          "name": "stderr"
        },
        {
          "output_type": "display_data",
          "data": {
            "image/png": "[encoded data removed]",
            "text/plain": [
              "<matplotlib.figure.Figure at 0x7fec4c4778d0>"
            ]
          },
          "metadata": {
            "tags": []
          }
        }
      ]
    },
    {
      "metadata": {
        "id": "h66-wLQuSu3J",
        "colab_type": "code",
        "colab": {
          "base_uri": "https://localhost:8080/",
          "height": 333
        },
        "outputId": "4ee9faf6-f43a-49bc-9866-254024e0f278"
      },
      "cell_type": "code",
      "source": [
        "import matplotlib.pyplot as plt\n",
        "%matplotlib inline\n",
        "\n",
        "k_range = list(range(1, 31))\n",
        "k_scores = []\n",
        "for k in k_range:\n",
        "    knn = KNeighborsClassifier(n_neighbors=k)\n",
        "    scores = cross_val_score(knn, X, y, cv=10, scoring='accuracy')\n",
        "    k_scores.append(scores.mean())\n",
        "print(k_scores)\n",
        "\n",
        "# plot the value of K for KNN (x-axis) versus the cross-validated accuracy (y-axis)\n",
        "plt.plot(k_range, k_scores)\n",
        "plt.xlabel('Value of K for KNN')\n",
        "plt.ylabel('Cross-Validated Accuracy')"
      ],
      "execution_count": 126,
      "outputs": [
        {
          "output_type": "stream",
          "text": [
            "[0.96, 0.9533333333333334, 0.9666666666666666, 0.9666666666666666, 0.9666666666666668, 0.9666666666666668, 0.9666666666666668, 0.9666666666666668, 0.9733333333333334, 0.9666666666666668, 0.9666666666666668, 0.9733333333333334, 0.9800000000000001, 0.9733333333333334, 0.9733333333333334, 0.9733333333333334, 0.9733333333333334, 0.9800000000000001, 0.9733333333333334, 0.9800000000000001, 0.9666666666666666, 0.9666666666666666, 0.9733333333333334, 0.96, 0.9666666666666666, 0.96, 0.9666666666666666, 0.9533333333333334, 0.9533333333333334, 0.9533333333333334]\n"
          ],
          "name": "stdout"
        },
        {
          "output_type": "execute_result",
          "data": {
            "text/plain": [
              "Text(0,0.5,'Cross-Validated Accuracy')"
            ]
          },
          "metadata": {
            "tags": []
          },
          "execution_count": 126
        },
        {
          "output_type": "display_data",
          "data": {
            "image/png": "[encoded data removed]",
            "text/plain": [
              "<matplotlib.figure.Figure at 0x7fec49f72b70>"
            ]
          },
          "metadata": {
            "tags": []
          }
        }
      ]
    },
    {
      "metadata": {
        "id": "Fb_GS99fU1s0",
        "colab_type": "text"
      },
      "cell_type": "markdown",
      "source": [
        "http://nbviewer.jupyter.org/github/cs109/content/blob/master/lec_10_cross_val.ipynb\n"
      ]
    },
    {
      "metadata": {
        "id": "RUZDbLTNU4rF",
        "colab_type": "code",
        "colab": {}
      },
      "cell_type": "code",
      "source": [
        ""
      ],
      "execution_count": 0,
      "outputs": []
    }
  ]
}
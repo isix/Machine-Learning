{
  "nbformat": 4,
  "nbformat_minor": 0,
  "metadata": {
    "colab": {
      "name": "CPT Compact Prediction Tree.ipynb",
      "version": "0.3.2",
      "provenance": []
    },
    "kernelspec": {
      "name": "python3",
      "display_name": "Python 3"
    }
  },
  "cells": [
    {
      "metadata": {
        "id": "hdn4SNC7BpCa",
        "colab_type": "text"
      },
      "cell_type": "markdown",
      "source": [
        "# CPT (Compact Prediction Tree)\n",
        "\n",
        "CPT algorithm for Sequence Prediction. \n",
        "\n",
        "https://link.springer.com/chapter/10.1007%2F978-3-642-53917-6_16\n",
        "\n",
        "http://www.philippe-fournier-viger.com/spmf/ADMA2013_Compact_Prediction_tree\n",
        "\n",
        "https://github.com/analyticsvidhya/CPT\n",
        "\n",
        "https://pdfs.semanticscholar.org/bd00/0fe7e222b8095c6591291cd7bef18f970ab7.pdf"
      ]
    },
    {
      "metadata": {
        "id": "OAHfZIao9h00",
        "colab_type": "code",
        "colab": {
          "base_uri": "https://localhost:8080/",
          "height": 391
        },
        "outputId": "14b91e04-dd38-4597-85d4-6a414eb66fbf"
      },
      "cell_type": "code",
      "source": [
        "!rm -rf CPT\n",
        "!git clone https://github.com/analyticsvidhya/CPT.git\n",
        "!ls -la ./CPT\n",
        "!pip install tqdm"
      ],
      "execution_count": 22,
      "outputs": [
        {
          "output_type": "stream",
          "text": [
            "Cloning into 'CPT'...\n",
            "remote: Counting objects: 50, done.\u001b[K\n",
            "remote: Compressing objects: 100% (46/46), done.\u001b[K\n",
            "remote: Total 50 (delta 20), reused 22 (delta 3), pack-reused 0\u001b[K\n",
            "Unpacking objects: 100% (50/50), done.\n",
            "total 48\n",
            "drwxr-xr-x 4 root root 4096 May  1 09:19 .\n",
            "drwxr-xr-x 1 root root 4096 May  1 09:19 ..\n",
            "-rw-r--r-- 1 root root 5935 May  1 09:19 CPT.py\n",
            "drwxr-xr-x 2 root root 4096 May  1 09:19 data\n",
            "-rw-r--r-- 1 root root  163 May  1 09:19 example.py\n",
            "drwxr-xr-x 8 root root 4096 May  1 09:19 .git\n",
            "-rw-r--r-- 1 root root 1157 May  1 09:19 .gitignore\n",
            "-rw-r--r-- 1 root root 1076 May  1 09:19 LICENSE\n",
            "-rw-r--r-- 1 root root  900 May  1 09:19 PredictionTree.py\n",
            "-rw-r--r-- 1 root root 1313 May  1 09:19 README.md\n",
            "-rw-r--r-- 1 root root   27 May  1 09:19 requirements.txt\n",
            "Collecting tqdm\n",
            "\u001b[?25l  Downloading https://files.pythonhosted.org/packages/c2/d4/bf1d99216672eef50392c009a8d0f282c4b643e4f764c962ff7b611ebce4/tqdm-4.23.1-py2.py3-none-any.whl (42kB)\n",
            "\u001b[K    100% |████████████████████████████████| 51kB 2.0MB/s \n",
            "\u001b[?25hInstalling collected packages: tqdm\n",
            "Successfully installed tqdm-4.23.1\n"
          ],
          "name": "stdout"
        }
      ]
    },
    {
      "metadata": {
        "id": "vNFHesRf_bDq",
        "colab_type": "code",
        "colab": {}
      },
      "cell_type": "code",
      "source": [
        "import sys\n",
        "sys.path.insert(0, \"CPT\")"
      ],
      "execution_count": 0,
      "outputs": []
    },
    {
      "metadata": {
        "id": "WWlO7XLkARip",
        "colab_type": "code",
        "colab": {
          "base_uri": "https://localhost:8080/",
          "height": 34
        },
        "outputId": "844f0534-0d25-4d19-f65c-7a2c5671acb0"
      },
      "cell_type": "code",
      "source": [
        "import CPT\n",
        "\n",
        "model = CPT.CPT()\n",
        "data, target = model.load_files(\"CPT/data/train.csv\",\"CPT/data/test.csv\")\n",
        "\n",
        "model.train(data)"
      ],
      "execution_count": 27,
      "outputs": [
        {
          "output_type": "execute_result",
          "data": {
            "text/plain": [
              "True"
            ]
          },
          "metadata": {
            "tags": []
          },
          "execution_count": 27
        }
      ]
    },
    {
      "metadata": {
        "id": "CiVTMNjxA-Gt",
        "colab_type": "text"
      },
      "cell_type": "markdown",
      "source": [
        "## Parameters for predictions\n",
        "\n",
        "Here target is the test dataset in the form of list of list,\n",
        "\n",
        "k is the number of last elements that will be used to find similar sequences and,\n",
        "\n",
        "n is the number of predictions required.\n",
        "\n",
        "Input: training list of list, target list of list, k,n\n",
        "\n",
        "Output: max n predictions for each sequence"
      ]
    },
    {
      "metadata": {
        "id": "EVqWlweEAfPZ",
        "colab_type": "code",
        "colab": {
          "base_uri": "https://localhost:8080/",
          "height": 34
        },
        "outputId": "ad5b1ba1-396f-4cf0-f851-b6348d1444ce"
      },
      "cell_type": "code",
      "source": [
        "n = 10\n",
        "k = 3\n",
        "predictions = model.predict(data,target, k, n)"
      ],
      "execution_count": 28,
      "outputs": [
        {
          "output_type": "stream",
          "text": [
            "100%|██████████| 39732/39732 [07:51<00:00, 84.27it/s]\n"
          ],
          "name": "stderr"
        }
      ]
    },
    {
      "metadata": {
        "id": "rk4Eggh5DFHS",
        "colab_type": "code",
        "colab": {
          "base_uri": "https://localhost:8080/",
          "height": 51
        },
        "outputId": "36ac482f-3eb0-4363-98e7-5d7aec674d7d"
      },
      "cell_type": "code",
      "source": [
        "#display(data)\n",
        "#display(target)\n",
        "x = [[23355, 23233, 24927, 24115, 21214, 21235, 21158, 25111, 21111, 22222]]\n",
        "y = [[23356, 23933, 24917, 24915, 23714, 23663, 24958, 25135, 25727, 24530]]\n",
        "predictions = model.predict(x,y, k, n)\n",
        "display(predictions)"
      ],
      "execution_count": 41,
      "outputs": [
        {
          "output_type": "stream",
          "text": [
            "100%|██████████| 1/1 [00:00<00:00, 4650.00it/s]\n"
          ],
          "name": "stderr"
        },
        {
          "output_type": "display_data",
          "data": {
            "text/plain": [
              "[[]]"
            ]
          },
          "metadata": {
            "tags": []
          }
        }
      ]
    }
  ]
}